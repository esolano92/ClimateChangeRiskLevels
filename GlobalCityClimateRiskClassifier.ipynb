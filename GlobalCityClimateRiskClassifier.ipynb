{
 "cells": [
  {
   "cell_type": "code",
   "execution_count": 84,
   "id": "0cf10e09",
   "metadata": {},
   "outputs": [],
   "source": [
    "import pandas as pd\n",
    "import numpy as np\n",
    "import matplotlib.pyplot as plt\n",
    "from collections import defaultdict\n",
    "from sklearn.model_selection import train_test_split, GridSearchCV\n",
    "from sklearn.linear_model import LogisticRegression, LinearRegression\n",
    "from sklearn.svm import SVC\n",
    "from sklearn.metrics import accuracy_score, confusion_matrix, classification_report, recall_score\n",
    "from sklearn.ensemble import RandomForestClassifier\n",
    "from sklearn.preprocessing import LabelEncoder, StandardScaler\n",
    "import plotly.express as px"
   ]
  },
  {
   "cell_type": "markdown",
   "id": "59e09b9e",
   "metadata": {},
   "source": [
    "## Exploratory Data Analysis "
   ]
  },
  {
   "cell_type": "code",
   "execution_count": 2,
   "id": "a85c6a11",
   "metadata": {},
   "outputs": [],
   "source": [
    "# Import the dataset\n",
    "global_land_temperatures_by_city_df = pd.read_csv('GlobalLandTemperaturesByCity.csv')"
   ]
  },
  {
   "cell_type": "code",
   "execution_count": 3,
   "id": "e6b9cc59",
   "metadata": {},
   "outputs": [
    {
     "data": {
      "text/html": [
       "<div>\n",
       "<style scoped>\n",
       "    .dataframe tbody tr th:only-of-type {\n",
       "        vertical-align: middle;\n",
       "    }\n",
       "\n",
       "    .dataframe tbody tr th {\n",
       "        vertical-align: top;\n",
       "    }\n",
       "\n",
       "    .dataframe thead th {\n",
       "        text-align: right;\n",
       "    }\n",
       "</style>\n",
       "<table border=\"1\" class=\"dataframe\">\n",
       "  <thead>\n",
       "    <tr style=\"text-align: right;\">\n",
       "      <th></th>\n",
       "      <th>dt</th>\n",
       "      <th>AverageTemperature</th>\n",
       "      <th>AverageTemperatureUncertainty</th>\n",
       "      <th>City</th>\n",
       "      <th>Country</th>\n",
       "      <th>Latitude</th>\n",
       "      <th>Longitude</th>\n",
       "    </tr>\n",
       "  </thead>\n",
       "  <tbody>\n",
       "    <tr>\n",
       "      <th>0</th>\n",
       "      <td>1743-11-01</td>\n",
       "      <td>6.068</td>\n",
       "      <td>1.737</td>\n",
       "      <td>Århus</td>\n",
       "      <td>Denmark</td>\n",
       "      <td>57.05N</td>\n",
       "      <td>10.33E</td>\n",
       "    </tr>\n",
       "    <tr>\n",
       "      <th>1</th>\n",
       "      <td>1743-12-01</td>\n",
       "      <td>NaN</td>\n",
       "      <td>NaN</td>\n",
       "      <td>Århus</td>\n",
       "      <td>Denmark</td>\n",
       "      <td>57.05N</td>\n",
       "      <td>10.33E</td>\n",
       "    </tr>\n",
       "    <tr>\n",
       "      <th>2</th>\n",
       "      <td>1744-01-01</td>\n",
       "      <td>NaN</td>\n",
       "      <td>NaN</td>\n",
       "      <td>Århus</td>\n",
       "      <td>Denmark</td>\n",
       "      <td>57.05N</td>\n",
       "      <td>10.33E</td>\n",
       "    </tr>\n",
       "    <tr>\n",
       "      <th>3</th>\n",
       "      <td>1744-02-01</td>\n",
       "      <td>NaN</td>\n",
       "      <td>NaN</td>\n",
       "      <td>Århus</td>\n",
       "      <td>Denmark</td>\n",
       "      <td>57.05N</td>\n",
       "      <td>10.33E</td>\n",
       "    </tr>\n",
       "    <tr>\n",
       "      <th>4</th>\n",
       "      <td>1744-03-01</td>\n",
       "      <td>NaN</td>\n",
       "      <td>NaN</td>\n",
       "      <td>Århus</td>\n",
       "      <td>Denmark</td>\n",
       "      <td>57.05N</td>\n",
       "      <td>10.33E</td>\n",
       "    </tr>\n",
       "  </tbody>\n",
       "</table>\n",
       "</div>"
      ],
      "text/plain": [
       "           dt  AverageTemperature  AverageTemperatureUncertainty   City  \\\n",
       "0  1743-11-01               6.068                          1.737  Århus   \n",
       "1  1743-12-01                 NaN                            NaN  Århus   \n",
       "2  1744-01-01                 NaN                            NaN  Århus   \n",
       "3  1744-02-01                 NaN                            NaN  Århus   \n",
       "4  1744-03-01                 NaN                            NaN  Århus   \n",
       "\n",
       "   Country Latitude Longitude  \n",
       "0  Denmark   57.05N    10.33E  \n",
       "1  Denmark   57.05N    10.33E  \n",
       "2  Denmark   57.05N    10.33E  \n",
       "3  Denmark   57.05N    10.33E  \n",
       "4  Denmark   57.05N    10.33E  "
      ]
     },
     "execution_count": 3,
     "metadata": {},
     "output_type": "execute_result"
    }
   ],
   "source": [
    "# Explore the first 5 enteries of the dataset\n",
    "global_land_temperatures_by_city_df.head()"
   ]
  },
  {
   "cell_type": "code",
   "execution_count": 4,
   "id": "4e2e9ace",
   "metadata": {},
   "outputs": [
    {
     "name": "stdout",
     "output_type": "stream",
     "text": [
      "<class 'pandas.core.frame.DataFrame'>\n",
      "RangeIndex: 8599212 entries, 0 to 8599211\n",
      "Data columns (total 7 columns):\n",
      " #   Column                         Dtype  \n",
      "---  ------                         -----  \n",
      " 0   dt                             object \n",
      " 1   AverageTemperature             float64\n",
      " 2   AverageTemperatureUncertainty  float64\n",
      " 3   City                           object \n",
      " 4   Country                        object \n",
      " 5   Latitude                       object \n",
      " 6   Longitude                      object \n",
      "dtypes: float64(2), object(5)\n",
      "memory usage: 459.2+ MB\n"
     ]
    }
   ],
   "source": [
    "# Explore the datatypes used in the dataset\n",
    "global_land_temperatures_by_city_df.info()"
   ]
  },
  {
   "cell_type": "code",
   "execution_count": 5,
   "id": "9b4fbfdd",
   "metadata": {},
   "outputs": [
    {
     "data": {
      "text/plain": [
       "dt                               8599212\n",
       "AverageTemperature               8235082\n",
       "AverageTemperatureUncertainty    8235082\n",
       "City                             8599212\n",
       "Country                          8599212\n",
       "Latitude                         8599212\n",
       "Longitude                        8599212\n",
       "dtype: int64"
      ]
     },
     "execution_count": 5,
     "metadata": {},
     "output_type": "execute_result"
    }
   ],
   "source": [
    "# View the non-null counts per column\n",
    "global_land_temperatures_by_city_df.count()"
   ]
  },
  {
   "cell_type": "code",
   "execution_count": 6,
   "id": "52308450",
   "metadata": {},
   "outputs": [
    {
     "data": {
      "text/plain": [
       "dt                                    0\n",
       "AverageTemperature               364130\n",
       "AverageTemperatureUncertainty    364130\n",
       "City                                  0\n",
       "Country                               0\n",
       "Latitude                              0\n",
       "Longitude                             0\n",
       "dtype: int64"
      ]
     },
     "execution_count": 6,
     "metadata": {},
     "output_type": "execute_result"
    }
   ],
   "source": [
    "# View the amount of missing values\n",
    "global_land_temperatures_by_city_df.isnull().sum()"
   ]
  },
  {
   "cell_type": "code",
   "execution_count": 7,
   "id": "08d31b73",
   "metadata": {},
   "outputs": [
    {
     "data": {
      "text/html": [
       "<div>\n",
       "<style scoped>\n",
       "    .dataframe tbody tr th:only-of-type {\n",
       "        vertical-align: middle;\n",
       "    }\n",
       "\n",
       "    .dataframe tbody tr th {\n",
       "        vertical-align: top;\n",
       "    }\n",
       "\n",
       "    .dataframe thead th {\n",
       "        text-align: right;\n",
       "    }\n",
       "</style>\n",
       "<table border=\"1\" class=\"dataframe\">\n",
       "  <thead>\n",
       "    <tr style=\"text-align: right;\">\n",
       "      <th></th>\n",
       "      <th>AverageTemperature</th>\n",
       "      <th>AverageTemperatureUncertainty</th>\n",
       "    </tr>\n",
       "  </thead>\n",
       "  <tbody>\n",
       "    <tr>\n",
       "      <th>count</th>\n",
       "      <td>8.235082e+06</td>\n",
       "      <td>8.235082e+06</td>\n",
       "    </tr>\n",
       "    <tr>\n",
       "      <th>mean</th>\n",
       "      <td>1.672743e+01</td>\n",
       "      <td>1.028575e+00</td>\n",
       "    </tr>\n",
       "    <tr>\n",
       "      <th>std</th>\n",
       "      <td>1.035344e+01</td>\n",
       "      <td>1.129733e+00</td>\n",
       "    </tr>\n",
       "    <tr>\n",
       "      <th>min</th>\n",
       "      <td>-4.270400e+01</td>\n",
       "      <td>3.400000e-02</td>\n",
       "    </tr>\n",
       "    <tr>\n",
       "      <th>25%</th>\n",
       "      <td>1.029900e+01</td>\n",
       "      <td>3.370000e-01</td>\n",
       "    </tr>\n",
       "    <tr>\n",
       "      <th>50%</th>\n",
       "      <td>1.883100e+01</td>\n",
       "      <td>5.910000e-01</td>\n",
       "    </tr>\n",
       "    <tr>\n",
       "      <th>75%</th>\n",
       "      <td>2.521000e+01</td>\n",
       "      <td>1.349000e+00</td>\n",
       "    </tr>\n",
       "    <tr>\n",
       "      <th>max</th>\n",
       "      <td>3.965100e+01</td>\n",
       "      <td>1.539600e+01</td>\n",
       "    </tr>\n",
       "  </tbody>\n",
       "</table>\n",
       "</div>"
      ],
      "text/plain": [
       "       AverageTemperature  AverageTemperatureUncertainty\n",
       "count        8.235082e+06                   8.235082e+06\n",
       "mean         1.672743e+01                   1.028575e+00\n",
       "std          1.035344e+01                   1.129733e+00\n",
       "min         -4.270400e+01                   3.400000e-02\n",
       "25%          1.029900e+01                   3.370000e-01\n",
       "50%          1.883100e+01                   5.910000e-01\n",
       "75%          2.521000e+01                   1.349000e+00\n",
       "max          3.965100e+01                   1.539600e+01"
      ]
     },
     "execution_count": 7,
     "metadata": {},
     "output_type": "execute_result"
    }
   ],
   "source": [
    "# View Dataset Stats\n",
    "global_land_temperatures_by_city_df.describe()"
   ]
  },
  {
   "cell_type": "markdown",
   "id": "f307ce34",
   "metadata": {},
   "source": [
    "## Data Preprocessing"
   ]
  },
  {
   "cell_type": "code",
   "execution_count": 8,
   "id": "2f4f13f6",
   "metadata": {},
   "outputs": [],
   "source": [
    "# Convert the dt colunmn to date and time and extract the year\n",
    "global_land_temperatures_by_city_df['dt'] = pd.to_datetime(global_land_temperatures_by_city_df['dt'])\n",
    "\n",
    "# Creates a column labeled year\n",
    "global_land_temperatures_by_city_df['Year'] = global_land_temperatures_by_city_df['dt'].dt.year\n"
   ]
  },
  {
   "cell_type": "code",
   "execution_count": 9,
   "id": "ab7de154",
   "metadata": {},
   "outputs": [
    {
     "data": {
      "text/html": [
       "<div>\n",
       "<style scoped>\n",
       "    .dataframe tbody tr th:only-of-type {\n",
       "        vertical-align: middle;\n",
       "    }\n",
       "\n",
       "    .dataframe tbody tr th {\n",
       "        vertical-align: top;\n",
       "    }\n",
       "\n",
       "    .dataframe thead th {\n",
       "        text-align: right;\n",
       "    }\n",
       "</style>\n",
       "<table border=\"1\" class=\"dataframe\">\n",
       "  <thead>\n",
       "    <tr style=\"text-align: right;\">\n",
       "      <th></th>\n",
       "      <th>dt</th>\n",
       "      <th>AverageTemperature</th>\n",
       "      <th>AverageTemperatureUncertainty</th>\n",
       "      <th>City</th>\n",
       "      <th>Country</th>\n",
       "      <th>Latitude</th>\n",
       "      <th>Longitude</th>\n",
       "      <th>Year</th>\n",
       "    </tr>\n",
       "  </thead>\n",
       "  <tbody>\n",
       "    <tr>\n",
       "      <th>0</th>\n",
       "      <td>1743-11-01</td>\n",
       "      <td>6.068</td>\n",
       "      <td>1.737</td>\n",
       "      <td>Århus</td>\n",
       "      <td>Denmark</td>\n",
       "      <td>57.05N</td>\n",
       "      <td>10.33E</td>\n",
       "      <td>1743</td>\n",
       "    </tr>\n",
       "    <tr>\n",
       "      <th>1</th>\n",
       "      <td>1743-12-01</td>\n",
       "      <td>NaN</td>\n",
       "      <td>NaN</td>\n",
       "      <td>Århus</td>\n",
       "      <td>Denmark</td>\n",
       "      <td>57.05N</td>\n",
       "      <td>10.33E</td>\n",
       "      <td>1743</td>\n",
       "    </tr>\n",
       "    <tr>\n",
       "      <th>2</th>\n",
       "      <td>1744-01-01</td>\n",
       "      <td>NaN</td>\n",
       "      <td>NaN</td>\n",
       "      <td>Århus</td>\n",
       "      <td>Denmark</td>\n",
       "      <td>57.05N</td>\n",
       "      <td>10.33E</td>\n",
       "      <td>1744</td>\n",
       "    </tr>\n",
       "    <tr>\n",
       "      <th>3</th>\n",
       "      <td>1744-02-01</td>\n",
       "      <td>NaN</td>\n",
       "      <td>NaN</td>\n",
       "      <td>Århus</td>\n",
       "      <td>Denmark</td>\n",
       "      <td>57.05N</td>\n",
       "      <td>10.33E</td>\n",
       "      <td>1744</td>\n",
       "    </tr>\n",
       "    <tr>\n",
       "      <th>4</th>\n",
       "      <td>1744-03-01</td>\n",
       "      <td>NaN</td>\n",
       "      <td>NaN</td>\n",
       "      <td>Århus</td>\n",
       "      <td>Denmark</td>\n",
       "      <td>57.05N</td>\n",
       "      <td>10.33E</td>\n",
       "      <td>1744</td>\n",
       "    </tr>\n",
       "    <tr>\n",
       "      <th>...</th>\n",
       "      <td>...</td>\n",
       "      <td>...</td>\n",
       "      <td>...</td>\n",
       "      <td>...</td>\n",
       "      <td>...</td>\n",
       "      <td>...</td>\n",
       "      <td>...</td>\n",
       "      <td>...</td>\n",
       "    </tr>\n",
       "    <tr>\n",
       "      <th>8599207</th>\n",
       "      <td>2013-05-01</td>\n",
       "      <td>11.464</td>\n",
       "      <td>0.236</td>\n",
       "      <td>Zwolle</td>\n",
       "      <td>Netherlands</td>\n",
       "      <td>52.24N</td>\n",
       "      <td>5.26E</td>\n",
       "      <td>2013</td>\n",
       "    </tr>\n",
       "    <tr>\n",
       "      <th>8599208</th>\n",
       "      <td>2013-06-01</td>\n",
       "      <td>15.043</td>\n",
       "      <td>0.261</td>\n",
       "      <td>Zwolle</td>\n",
       "      <td>Netherlands</td>\n",
       "      <td>52.24N</td>\n",
       "      <td>5.26E</td>\n",
       "      <td>2013</td>\n",
       "    </tr>\n",
       "    <tr>\n",
       "      <th>8599209</th>\n",
       "      <td>2013-07-01</td>\n",
       "      <td>18.775</td>\n",
       "      <td>0.193</td>\n",
       "      <td>Zwolle</td>\n",
       "      <td>Netherlands</td>\n",
       "      <td>52.24N</td>\n",
       "      <td>5.26E</td>\n",
       "      <td>2013</td>\n",
       "    </tr>\n",
       "    <tr>\n",
       "      <th>8599210</th>\n",
       "      <td>2013-08-01</td>\n",
       "      <td>18.025</td>\n",
       "      <td>0.298</td>\n",
       "      <td>Zwolle</td>\n",
       "      <td>Netherlands</td>\n",
       "      <td>52.24N</td>\n",
       "      <td>5.26E</td>\n",
       "      <td>2013</td>\n",
       "    </tr>\n",
       "    <tr>\n",
       "      <th>8599211</th>\n",
       "      <td>2013-09-01</td>\n",
       "      <td>NaN</td>\n",
       "      <td>NaN</td>\n",
       "      <td>Zwolle</td>\n",
       "      <td>Netherlands</td>\n",
       "      <td>52.24N</td>\n",
       "      <td>5.26E</td>\n",
       "      <td>2013</td>\n",
       "    </tr>\n",
       "  </tbody>\n",
       "</table>\n",
       "<p>8599212 rows × 8 columns</p>\n",
       "</div>"
      ],
      "text/plain": [
       "                dt  AverageTemperature  AverageTemperatureUncertainty    City  \\\n",
       "0       1743-11-01               6.068                          1.737   Århus   \n",
       "1       1743-12-01                 NaN                            NaN   Århus   \n",
       "2       1744-01-01                 NaN                            NaN   Århus   \n",
       "3       1744-02-01                 NaN                            NaN   Århus   \n",
       "4       1744-03-01                 NaN                            NaN   Århus   \n",
       "...            ...                 ...                            ...     ...   \n",
       "8599207 2013-05-01              11.464                          0.236  Zwolle   \n",
       "8599208 2013-06-01              15.043                          0.261  Zwolle   \n",
       "8599209 2013-07-01              18.775                          0.193  Zwolle   \n",
       "8599210 2013-08-01              18.025                          0.298  Zwolle   \n",
       "8599211 2013-09-01                 NaN                            NaN  Zwolle   \n",
       "\n",
       "             Country Latitude Longitude  Year  \n",
       "0            Denmark   57.05N    10.33E  1743  \n",
       "1            Denmark   57.05N    10.33E  1743  \n",
       "2            Denmark   57.05N    10.33E  1744  \n",
       "3            Denmark   57.05N    10.33E  1744  \n",
       "4            Denmark   57.05N    10.33E  1744  \n",
       "...              ...      ...       ...   ...  \n",
       "8599207  Netherlands   52.24N     5.26E  2013  \n",
       "8599208  Netherlands   52.24N     5.26E  2013  \n",
       "8599209  Netherlands   52.24N     5.26E  2013  \n",
       "8599210  Netherlands   52.24N     5.26E  2013  \n",
       "8599211  Netherlands   52.24N     5.26E  2013  \n",
       "\n",
       "[8599212 rows x 8 columns]"
      ]
     },
     "execution_count": 9,
     "metadata": {},
     "output_type": "execute_result"
    }
   ],
   "source": [
    "# View modified dataset\n",
    "global_land_temperatures_by_city_df"
   ]
  },
  {
   "cell_type": "code",
   "execution_count": 10,
   "id": "7296c09e",
   "metadata": {},
   "outputs": [],
   "source": [
    "# Filter the dataset to only use enteries from 1900-2012\n",
    "filtered_global_land_temperatures_by_city_df = global_land_temperatures_by_city_df[\n",
    "    (global_land_temperatures_by_city_df['Year'] >= 1900) & (global_land_temperatures_by_city_df['Year'] <= 2012)]"
   ]
  },
  {
   "cell_type": "code",
   "execution_count": 11,
   "id": "50491a0f",
   "metadata": {},
   "outputs": [
    {
     "data": {
      "text/html": [
       "<div>\n",
       "<style scoped>\n",
       "    .dataframe tbody tr th:only-of-type {\n",
       "        vertical-align: middle;\n",
       "    }\n",
       "\n",
       "    .dataframe tbody tr th {\n",
       "        vertical-align: top;\n",
       "    }\n",
       "\n",
       "    .dataframe thead th {\n",
       "        text-align: right;\n",
       "    }\n",
       "</style>\n",
       "<table border=\"1\" class=\"dataframe\">\n",
       "  <thead>\n",
       "    <tr style=\"text-align: right;\">\n",
       "      <th></th>\n",
       "      <th>dt</th>\n",
       "      <th>AverageTemperature</th>\n",
       "      <th>AverageTemperatureUncertainty</th>\n",
       "      <th>City</th>\n",
       "      <th>Country</th>\n",
       "      <th>Latitude</th>\n",
       "      <th>Longitude</th>\n",
       "      <th>Year</th>\n",
       "    </tr>\n",
       "  </thead>\n",
       "  <tbody>\n",
       "    <tr>\n",
       "      <th>1874</th>\n",
       "      <td>1900-01-01</td>\n",
       "      <td>-0.989</td>\n",
       "      <td>0.588</td>\n",
       "      <td>Århus</td>\n",
       "      <td>Denmark</td>\n",
       "      <td>57.05N</td>\n",
       "      <td>10.33E</td>\n",
       "      <td>1900</td>\n",
       "    </tr>\n",
       "    <tr>\n",
       "      <th>1875</th>\n",
       "      <td>1900-02-01</td>\n",
       "      <td>-2.799</td>\n",
       "      <td>0.882</td>\n",
       "      <td>Århus</td>\n",
       "      <td>Denmark</td>\n",
       "      <td>57.05N</td>\n",
       "      <td>10.33E</td>\n",
       "      <td>1900</td>\n",
       "    </tr>\n",
       "    <tr>\n",
       "      <th>1876</th>\n",
       "      <td>1900-03-01</td>\n",
       "      <td>0.592</td>\n",
       "      <td>0.429</td>\n",
       "      <td>Århus</td>\n",
       "      <td>Denmark</td>\n",
       "      <td>57.05N</td>\n",
       "      <td>10.33E</td>\n",
       "      <td>1900</td>\n",
       "    </tr>\n",
       "    <tr>\n",
       "      <th>1877</th>\n",
       "      <td>1900-04-01</td>\n",
       "      <td>4.630</td>\n",
       "      <td>0.417</td>\n",
       "      <td>Århus</td>\n",
       "      <td>Denmark</td>\n",
       "      <td>57.05N</td>\n",
       "      <td>10.33E</td>\n",
       "      <td>1900</td>\n",
       "    </tr>\n",
       "    <tr>\n",
       "      <th>1878</th>\n",
       "      <td>1900-05-01</td>\n",
       "      <td>9.576</td>\n",
       "      <td>0.521</td>\n",
       "      <td>Århus</td>\n",
       "      <td>Denmark</td>\n",
       "      <td>57.05N</td>\n",
       "      <td>10.33E</td>\n",
       "      <td>1900</td>\n",
       "    </tr>\n",
       "    <tr>\n",
       "      <th>...</th>\n",
       "      <td>...</td>\n",
       "      <td>...</td>\n",
       "      <td>...</td>\n",
       "      <td>...</td>\n",
       "      <td>...</td>\n",
       "      <td>...</td>\n",
       "      <td>...</td>\n",
       "      <td>...</td>\n",
       "    </tr>\n",
       "    <tr>\n",
       "      <th>8599198</th>\n",
       "      <td>2012-08-01</td>\n",
       "      <td>18.588</td>\n",
       "      <td>0.224</td>\n",
       "      <td>Zwolle</td>\n",
       "      <td>Netherlands</td>\n",
       "      <td>52.24N</td>\n",
       "      <td>5.26E</td>\n",
       "      <td>2012</td>\n",
       "    </tr>\n",
       "    <tr>\n",
       "      <th>8599199</th>\n",
       "      <td>2012-09-01</td>\n",
       "      <td>14.333</td>\n",
       "      <td>0.207</td>\n",
       "      <td>Zwolle</td>\n",
       "      <td>Netherlands</td>\n",
       "      <td>52.24N</td>\n",
       "      <td>5.26E</td>\n",
       "      <td>2012</td>\n",
       "    </tr>\n",
       "    <tr>\n",
       "      <th>8599200</th>\n",
       "      <td>2012-10-01</td>\n",
       "      <td>10.358</td>\n",
       "      <td>0.208</td>\n",
       "      <td>Zwolle</td>\n",
       "      <td>Netherlands</td>\n",
       "      <td>52.24N</td>\n",
       "      <td>5.26E</td>\n",
       "      <td>2012</td>\n",
       "    </tr>\n",
       "    <tr>\n",
       "      <th>8599201</th>\n",
       "      <td>2012-11-01</td>\n",
       "      <td>6.469</td>\n",
       "      <td>0.189</td>\n",
       "      <td>Zwolle</td>\n",
       "      <td>Netherlands</td>\n",
       "      <td>52.24N</td>\n",
       "      <td>5.26E</td>\n",
       "      <td>2012</td>\n",
       "    </tr>\n",
       "    <tr>\n",
       "      <th>8599202</th>\n",
       "      <td>2012-12-01</td>\n",
       "      <td>4.303</td>\n",
       "      <td>0.341</td>\n",
       "      <td>Zwolle</td>\n",
       "      <td>Netherlands</td>\n",
       "      <td>52.24N</td>\n",
       "      <td>5.26E</td>\n",
       "      <td>2012</td>\n",
       "    </tr>\n",
       "  </tbody>\n",
       "</table>\n",
       "<p>4759560 rows × 8 columns</p>\n",
       "</div>"
      ],
      "text/plain": [
       "                dt  AverageTemperature  AverageTemperatureUncertainty    City  \\\n",
       "1874    1900-01-01              -0.989                          0.588   Århus   \n",
       "1875    1900-02-01              -2.799                          0.882   Århus   \n",
       "1876    1900-03-01               0.592                          0.429   Århus   \n",
       "1877    1900-04-01               4.630                          0.417   Århus   \n",
       "1878    1900-05-01               9.576                          0.521   Århus   \n",
       "...            ...                 ...                            ...     ...   \n",
       "8599198 2012-08-01              18.588                          0.224  Zwolle   \n",
       "8599199 2012-09-01              14.333                          0.207  Zwolle   \n",
       "8599200 2012-10-01              10.358                          0.208  Zwolle   \n",
       "8599201 2012-11-01               6.469                          0.189  Zwolle   \n",
       "8599202 2012-12-01               4.303                          0.341  Zwolle   \n",
       "\n",
       "             Country Latitude Longitude  Year  \n",
       "1874         Denmark   57.05N    10.33E  1900  \n",
       "1875         Denmark   57.05N    10.33E  1900  \n",
       "1876         Denmark   57.05N    10.33E  1900  \n",
       "1877         Denmark   57.05N    10.33E  1900  \n",
       "1878         Denmark   57.05N    10.33E  1900  \n",
       "...              ...      ...       ...   ...  \n",
       "8599198  Netherlands   52.24N     5.26E  2012  \n",
       "8599199  Netherlands   52.24N     5.26E  2012  \n",
       "8599200  Netherlands   52.24N     5.26E  2012  \n",
       "8599201  Netherlands   52.24N     5.26E  2012  \n",
       "8599202  Netherlands   52.24N     5.26E  2012  \n",
       "\n",
       "[4759560 rows x 8 columns]"
      ]
     },
     "execution_count": 11,
     "metadata": {},
     "output_type": "execute_result"
    }
   ],
   "source": [
    "filtered_global_land_temperatures_by_city_df"
   ]
  },
  {
   "cell_type": "code",
   "execution_count": 12,
   "id": "8bc74e1d",
   "metadata": {},
   "outputs": [
    {
     "data": {
      "text/plain": [
       "dt                               0\n",
       "AverageTemperature               0\n",
       "AverageTemperatureUncertainty    0\n",
       "City                             0\n",
       "Country                          0\n",
       "Latitude                         0\n",
       "Longitude                        0\n",
       "Year                             0\n",
       "dtype: int64"
      ]
     },
     "execution_count": 12,
     "metadata": {},
     "output_type": "execute_result"
    }
   ],
   "source": [
    "# Check for missing values in the newly filtered dataset\n",
    "filtered_global_land_temperatures_by_city_df.isnull().sum()"
   ]
  },
  {
   "cell_type": "code",
   "execution_count": 13,
   "id": "6537d29d",
   "metadata": {},
   "outputs": [],
   "source": [
    "# Create a function to convert Latitude and Longitude to numeric values\n",
    "def convert_geo_coords(coord):\n",
    "    # Latitude ends in 'N' or 'S'; Longitude ends in 'E' or 'W'\n",
    "    if coord[-1] in ['N', 'S']:\n",
    "        return float(coord[:-1]) * (1 if coord[-1] == 'N' else -1)\n",
    "    elif coord[-1] in ['E', 'W']:\n",
    "        return float(coord[:-1]) * (1 if coord[-1] == 'E' else -1)\n",
    "    return float(coord)"
   ]
  },
  {
   "cell_type": "code",
   "execution_count": 14,
   "id": "2804fc41",
   "metadata": {},
   "outputs": [
    {
     "name": "stderr",
     "output_type": "stream",
     "text": [
      "C:\\Users\\Eppys\\AppData\\Local\\Temp\\ipykernel_18944\\1773990511.py:3: SettingWithCopyWarning: \n",
      "A value is trying to be set on a copy of a slice from a DataFrame.\n",
      "Try using .loc[row_indexer,col_indexer] = value instead\n",
      "\n",
      "See the caveats in the documentation: https://pandas.pydata.org/pandas-docs/stable/user_guide/indexing.html#returning-a-view-versus-a-copy\n",
      "  filtered_global_land_temperatures_by_city_df['Longitude'] = filtered_global_land_temperatures_by_city_df['Longitude'].apply(convert_geo_coords)\n",
      "C:\\Users\\Eppys\\AppData\\Local\\Temp\\ipykernel_18944\\1773990511.py:5: SettingWithCopyWarning: \n",
      "A value is trying to be set on a copy of a slice from a DataFrame.\n",
      "Try using .loc[row_indexer,col_indexer] = value instead\n",
      "\n",
      "See the caveats in the documentation: https://pandas.pydata.org/pandas-docs/stable/user_guide/indexing.html#returning-a-view-versus-a-copy\n",
      "  filtered_global_land_temperatures_by_city_df['Latitude'] = filtered_global_land_temperatures_by_city_df['Latitude'].apply(convert_geo_coords)\n"
     ]
    }
   ],
   "source": [
    "# Convert the geo_coords using the function\n",
    "\n",
    "filtered_global_land_temperatures_by_city_df['Longitude'] = filtered_global_land_temperatures_by_city_df['Longitude'].apply(convert_geo_coords)\n",
    "\n",
    "filtered_global_land_temperatures_by_city_df['Latitude'] = filtered_global_land_temperatures_by_city_df['Latitude'].apply(convert_geo_coords)"
   ]
  },
  {
   "cell_type": "markdown",
   "id": "30f37f83",
   "metadata": {},
   "source": [
    "## Feature Engineering"
   ]
  },
  {
   "cell_type": "code",
   "execution_count": 15,
   "id": "1974b229",
   "metadata": {},
   "outputs": [],
   "source": [
    "# Group dataset by city\n",
    "grouped_cities = filtered_global_land_temperatures_by_city_df.groupby('City')"
   ]
  },
  {
   "cell_type": "code",
   "execution_count": 16,
   "id": "2433f347",
   "metadata": {},
   "outputs": [],
   "source": [
    "# Use numpy to create arrays for features to be added to dataset (Average Temperature, Rate of Change, Standard Deviation)\n",
    "\n",
    "engineered_city_features = []\n",
    "\n",
    "for city, group in grouped_cities:\n",
    "    grouped_years = group['Year'].values.reshape(-1,1)\n",
    "    grouped_average_temperature = group['AverageTemperature'].values\n",
    "    \n",
    "    # Fit a linear regression model to extract the sloped and intercept\n",
    "    linear_regression_model = LinearRegression()\n",
    "    linear_regression_model.fit(grouped_years, grouped_average_temperature)\n",
    "    \n",
    "    rate_of_change = linear_regression_model.coef_[0]\n",
    "    intercept = linear_regression_model.intercept_\n",
    "    \n",
    "    # Features\n",
    "    average_temperature = np.mean(grouped_average_temperature)\n",
    "    standard_deviation = np.std(grouped_average_temperature)\n",
    "    min_temperature = np.min(grouped_average_temperature)\n",
    "    max_temperature = np.max(grouped_average_temperature)\n",
    "    temperature_range = max_temperature - min_temperature \n",
    "    years_to_1_5_temperature_change = 1.5 / rate_of_change if rate_of_change != 0 else np.nan # in case of divide by zero we will just put NaN\n",
    "    \n",
    "    # Add features to list\n",
    "    engineered_city_features.append(\n",
    "    {\n",
    "        'City': city,\n",
    "        'Country': group['Country'].iloc[0],\n",
    "        'Latitude': group['Latitude'].iloc[0],\n",
    "        'Longitude': group['Longitude'].iloc[0],\n",
    "        'RateOfChange': rate_of_change,\n",
    "        'AverageCityTemperature': average_temperature,\n",
    "        'StandardDeviation': standard_deviation,\n",
    "        'MinTemperature': min_temperature,\n",
    "        'MaxTemperature': max_temperature,\n",
    "        'TemperatureRange': temperature_range,\n",
    "        'YearsUntil1.5TemperatureChange' : years_to_1_5_temperature_change\n",
    "    })"
   ]
  },
  {
   "cell_type": "code",
   "execution_count": 17,
   "id": "accc8886",
   "metadata": {},
   "outputs": [
    {
     "data": {
      "text/html": [
       "<div>\n",
       "<style scoped>\n",
       "    .dataframe tbody tr th:only-of-type {\n",
       "        vertical-align: middle;\n",
       "    }\n",
       "\n",
       "    .dataframe tbody tr th {\n",
       "        vertical-align: top;\n",
       "    }\n",
       "\n",
       "    .dataframe thead th {\n",
       "        text-align: right;\n",
       "    }\n",
       "</style>\n",
       "<table border=\"1\" class=\"dataframe\">\n",
       "  <thead>\n",
       "    <tr style=\"text-align: right;\">\n",
       "      <th></th>\n",
       "      <th>City</th>\n",
       "      <th>Country</th>\n",
       "      <th>Latitude</th>\n",
       "      <th>Longitude</th>\n",
       "      <th>RateOfChange</th>\n",
       "      <th>AverageCityTemperature</th>\n",
       "      <th>StandardDeviation</th>\n",
       "      <th>MinTemperature</th>\n",
       "      <th>MaxTemperature</th>\n",
       "      <th>TemperatureRange</th>\n",
       "      <th>YearsUntil1.5TemperatureChange</th>\n",
       "    </tr>\n",
       "  </thead>\n",
       "  <tbody>\n",
       "    <tr>\n",
       "      <th>0</th>\n",
       "      <td>A Coruña</td>\n",
       "      <td>Spain</td>\n",
       "      <td>42.59</td>\n",
       "      <td>-8.73</td>\n",
       "      <td>0.010225</td>\n",
       "      <td>13.393040</td>\n",
       "      <td>3.856365</td>\n",
       "      <td>5.062</td>\n",
       "      <td>21.913</td>\n",
       "      <td>16.851</td>\n",
       "      <td>146.705257</td>\n",
       "    </tr>\n",
       "    <tr>\n",
       "      <th>1</th>\n",
       "      <td>Aachen</td>\n",
       "      <td>Germany</td>\n",
       "      <td>50.63</td>\n",
       "      <td>6.34</td>\n",
       "      <td>0.010910</td>\n",
       "      <td>9.132275</td>\n",
       "      <td>6.191364</td>\n",
       "      <td>-7.720</td>\n",
       "      <td>22.812</td>\n",
       "      <td>30.532</td>\n",
       "      <td>137.483358</td>\n",
       "    </tr>\n",
       "    <tr>\n",
       "      <th>2</th>\n",
       "      <td>Aalborg</td>\n",
       "      <td>Denmark</td>\n",
       "      <td>57.05</td>\n",
       "      <td>10.33</td>\n",
       "      <td>0.009922</td>\n",
       "      <td>8.018004</td>\n",
       "      <td>6.369246</td>\n",
       "      <td>-7.816</td>\n",
       "      <td>20.883</td>\n",
       "      <td>28.699</td>\n",
       "      <td>151.178383</td>\n",
       "    </tr>\n",
       "    <tr>\n",
       "      <th>3</th>\n",
       "      <td>Aba</td>\n",
       "      <td>Nigeria</td>\n",
       "      <td>5.63</td>\n",
       "      <td>8.07</td>\n",
       "      <td>0.007759</td>\n",
       "      <td>26.786108</td>\n",
       "      <td>1.054214</td>\n",
       "      <td>24.009</td>\n",
       "      <td>30.036</td>\n",
       "      <td>6.027</td>\n",
       "      <td>193.335143</td>\n",
       "    </tr>\n",
       "    <tr>\n",
       "      <th>4</th>\n",
       "      <td>Abadan</td>\n",
       "      <td>Iran</td>\n",
       "      <td>29.74</td>\n",
       "      <td>48.00</td>\n",
       "      <td>0.013546</td>\n",
       "      <td>25.237664</td>\n",
       "      <td>8.351773</td>\n",
       "      <td>7.964</td>\n",
       "      <td>38.531</td>\n",
       "      <td>30.567</td>\n",
       "      <td>110.736204</td>\n",
       "    </tr>\n",
       "    <tr>\n",
       "      <th>...</th>\n",
       "      <td>...</td>\n",
       "      <td>...</td>\n",
       "      <td>...</td>\n",
       "      <td>...</td>\n",
       "      <td>...</td>\n",
       "      <td>...</td>\n",
       "      <td>...</td>\n",
       "      <td>...</td>\n",
       "      <td>...</td>\n",
       "      <td>...</td>\n",
       "      <td>...</td>\n",
       "    </tr>\n",
       "    <tr>\n",
       "      <th>3443</th>\n",
       "      <td>Århus</td>\n",
       "      <td>Denmark</td>\n",
       "      <td>57.05</td>\n",
       "      <td>10.33</td>\n",
       "      <td>0.009922</td>\n",
       "      <td>8.018004</td>\n",
       "      <td>6.369246</td>\n",
       "      <td>-7.816</td>\n",
       "      <td>20.883</td>\n",
       "      <td>28.699</td>\n",
       "      <td>151.178383</td>\n",
       "    </tr>\n",
       "    <tr>\n",
       "      <th>3444</th>\n",
       "      <td>Çorlu</td>\n",
       "      <td>Turkey</td>\n",
       "      <td>40.99</td>\n",
       "      <td>27.69</td>\n",
       "      <td>0.007166</td>\n",
       "      <td>13.599576</td>\n",
       "      <td>6.821893</td>\n",
       "      <td>-0.966</td>\n",
       "      <td>26.774</td>\n",
       "      <td>27.740</td>\n",
       "      <td>209.317852</td>\n",
       "    </tr>\n",
       "    <tr>\n",
       "      <th>3445</th>\n",
       "      <td>Çorum</td>\n",
       "      <td>Turkey</td>\n",
       "      <td>40.99</td>\n",
       "      <td>34.08</td>\n",
       "      <td>0.007639</td>\n",
       "      <td>10.250976</td>\n",
       "      <td>7.469154</td>\n",
       "      <td>-5.475</td>\n",
       "      <td>24.577</td>\n",
       "      <td>30.052</td>\n",
       "      <td>196.372628</td>\n",
       "    </tr>\n",
       "    <tr>\n",
       "      <th>3446</th>\n",
       "      <td>Öskemen</td>\n",
       "      <td>Kazakhstan</td>\n",
       "      <td>50.63</td>\n",
       "      <td>82.39</td>\n",
       "      <td>0.015857</td>\n",
       "      <td>1.611088</td>\n",
       "      <td>13.070158</td>\n",
       "      <td>-28.720</td>\n",
       "      <td>22.229</td>\n",
       "      <td>50.949</td>\n",
       "      <td>94.593668</td>\n",
       "    </tr>\n",
       "    <tr>\n",
       "      <th>3447</th>\n",
       "      <td>Ürümqi</td>\n",
       "      <td>China</td>\n",
       "      <td>44.20</td>\n",
       "      <td>87.20</td>\n",
       "      <td>0.014836</td>\n",
       "      <td>6.204619</td>\n",
       "      <td>14.127610</td>\n",
       "      <td>-21.688</td>\n",
       "      <td>26.092</td>\n",
       "      <td>47.780</td>\n",
       "      <td>101.102106</td>\n",
       "    </tr>\n",
       "  </tbody>\n",
       "</table>\n",
       "<p>3448 rows × 11 columns</p>\n",
       "</div>"
      ],
      "text/plain": [
       "          City     Country  Latitude  Longitude  RateOfChange  \\\n",
       "0     A Coruña       Spain     42.59      -8.73      0.010225   \n",
       "1       Aachen     Germany     50.63       6.34      0.010910   \n",
       "2      Aalborg     Denmark     57.05      10.33      0.009922   \n",
       "3          Aba     Nigeria      5.63       8.07      0.007759   \n",
       "4       Abadan        Iran     29.74      48.00      0.013546   \n",
       "...        ...         ...       ...        ...           ...   \n",
       "3443     Århus     Denmark     57.05      10.33      0.009922   \n",
       "3444     Çorlu      Turkey     40.99      27.69      0.007166   \n",
       "3445     Çorum      Turkey     40.99      34.08      0.007639   \n",
       "3446   Öskemen  Kazakhstan     50.63      82.39      0.015857   \n",
       "3447    Ürümqi       China     44.20      87.20      0.014836   \n",
       "\n",
       "      AverageCityTemperature  StandardDeviation  MinTemperature  \\\n",
       "0                  13.393040           3.856365           5.062   \n",
       "1                   9.132275           6.191364          -7.720   \n",
       "2                   8.018004           6.369246          -7.816   \n",
       "3                  26.786108           1.054214          24.009   \n",
       "4                  25.237664           8.351773           7.964   \n",
       "...                      ...                ...             ...   \n",
       "3443                8.018004           6.369246          -7.816   \n",
       "3444               13.599576           6.821893          -0.966   \n",
       "3445               10.250976           7.469154          -5.475   \n",
       "3446                1.611088          13.070158         -28.720   \n",
       "3447                6.204619          14.127610         -21.688   \n",
       "\n",
       "      MaxTemperature  TemperatureRange  YearsUntil1.5TemperatureChange  \n",
       "0             21.913            16.851                      146.705257  \n",
       "1             22.812            30.532                      137.483358  \n",
       "2             20.883            28.699                      151.178383  \n",
       "3             30.036             6.027                      193.335143  \n",
       "4             38.531            30.567                      110.736204  \n",
       "...              ...               ...                             ...  \n",
       "3443          20.883            28.699                      151.178383  \n",
       "3444          26.774            27.740                      209.317852  \n",
       "3445          24.577            30.052                      196.372628  \n",
       "3446          22.229            50.949                       94.593668  \n",
       "3447          26.092            47.780                      101.102106  \n",
       "\n",
       "[3448 rows x 11 columns]"
      ]
     },
     "execution_count": 17,
     "metadata": {},
     "output_type": "execute_result"
    }
   ],
   "source": [
    "engineered_features_df = pd.DataFrame(engineered_city_features)\n",
    "engineered_features_df"
   ]
  },
  {
   "cell_type": "code",
   "execution_count": 18,
   "id": "a6e38b48",
   "metadata": {},
   "outputs": [
    {
     "data": {
      "text/html": [
       "<div>\n",
       "<style scoped>\n",
       "    .dataframe tbody tr th:only-of-type {\n",
       "        vertical-align: middle;\n",
       "    }\n",
       "\n",
       "    .dataframe tbody tr th {\n",
       "        vertical-align: top;\n",
       "    }\n",
       "\n",
       "    .dataframe thead th {\n",
       "        text-align: right;\n",
       "    }\n",
       "</style>\n",
       "<table border=\"1\" class=\"dataframe\">\n",
       "  <thead>\n",
       "    <tr style=\"text-align: right;\">\n",
       "      <th></th>\n",
       "      <th>Latitude</th>\n",
       "      <th>Longitude</th>\n",
       "      <th>RateOfChange</th>\n",
       "      <th>AverageCityTemperature</th>\n",
       "      <th>StandardDeviation</th>\n",
       "      <th>MinTemperature</th>\n",
       "      <th>MaxTemperature</th>\n",
       "      <th>TemperatureRange</th>\n",
       "      <th>YearsUntil1.5TemperatureChange</th>\n",
       "    </tr>\n",
       "  </thead>\n",
       "  <tbody>\n",
       "    <tr>\n",
       "      <th>count</th>\n",
       "      <td>3448.000000</td>\n",
       "      <td>3448.000000</td>\n",
       "      <td>3448.000000</td>\n",
       "      <td>3448.000000</td>\n",
       "      <td>3448.000000</td>\n",
       "      <td>3448.000000</td>\n",
       "      <td>3448.000000</td>\n",
       "      <td>3448.000000</td>\n",
       "      <td>3448.000000</td>\n",
       "    </tr>\n",
       "    <tr>\n",
       "      <th>mean</th>\n",
       "      <td>22.760305</td>\n",
       "      <td>33.125626</td>\n",
       "      <td>0.009946</td>\n",
       "      <td>17.834648</td>\n",
       "      <td>5.446304</td>\n",
       "      <td>5.922023</td>\n",
       "      <td>27.710032</td>\n",
       "      <td>21.788009</td>\n",
       "      <td>159.982058</td>\n",
       "    </tr>\n",
       "    <tr>\n",
       "      <th>std</th>\n",
       "      <td>23.343417</td>\n",
       "      <td>74.235291</td>\n",
       "      <td>0.002476</td>\n",
       "      <td>7.663985</td>\n",
       "      <td>3.538202</td>\n",
       "      <td>14.343447</td>\n",
       "      <td>4.378213</td>\n",
       "      <td>12.822417</td>\n",
       "      <td>39.261050</td>\n",
       "    </tr>\n",
       "    <tr>\n",
       "      <th>min</th>\n",
       "      <td>-52.240000</td>\n",
       "      <td>-151.130000</td>\n",
       "      <td>0.004339</td>\n",
       "      <td>-11.514866</td>\n",
       "      <td>0.491174</td>\n",
       "      <td>-42.704000</td>\n",
       "      <td>9.245000</td>\n",
       "      <td>3.178000</td>\n",
       "      <td>78.833984</td>\n",
       "    </tr>\n",
       "    <tr>\n",
       "      <th>25%</th>\n",
       "      <td>8.840000</td>\n",
       "      <td>-5.970000</td>\n",
       "      <td>0.008113</td>\n",
       "      <td>11.600276</td>\n",
       "      <td>2.231723</td>\n",
       "      <td>-3.864000</td>\n",
       "      <td>24.766500</td>\n",
       "      <td>9.957000</td>\n",
       "      <td>136.424548</td>\n",
       "    </tr>\n",
       "    <tr>\n",
       "      <th>50%</th>\n",
       "      <td>28.130000</td>\n",
       "      <td>36.350000</td>\n",
       "      <td>0.009940</td>\n",
       "      <td>18.603574</td>\n",
       "      <td>5.395297</td>\n",
       "      <td>8.575000</td>\n",
       "      <td>28.001500</td>\n",
       "      <td>21.101000</td>\n",
       "      <td>150.900950</td>\n",
       "    </tr>\n",
       "    <tr>\n",
       "      <th>75%</th>\n",
       "      <td>39.380000</td>\n",
       "      <td>100.712500</td>\n",
       "      <td>0.010995</td>\n",
       "      <td>25.399146</td>\n",
       "      <td>8.082391</td>\n",
       "      <td>18.379500</td>\n",
       "      <td>30.201000</td>\n",
       "      <td>30.709250</td>\n",
       "      <td>184.894194</td>\n",
       "    </tr>\n",
       "    <tr>\n",
       "      <th>max</th>\n",
       "      <td>69.920000</td>\n",
       "      <td>176.950000</td>\n",
       "      <td>0.019027</td>\n",
       "      <td>29.229099</td>\n",
       "      <td>16.417707</td>\n",
       "      <td>26.027000</td>\n",
       "      <td>39.153000</td>\n",
       "      <td>61.010000</td>\n",
       "      <td>345.709549</td>\n",
       "    </tr>\n",
       "  </tbody>\n",
       "</table>\n",
       "</div>"
      ],
      "text/plain": [
       "          Latitude    Longitude  RateOfChange  AverageCityTemperature  \\\n",
       "count  3448.000000  3448.000000   3448.000000             3448.000000   \n",
       "mean     22.760305    33.125626      0.009946               17.834648   \n",
       "std      23.343417    74.235291      0.002476                7.663985   \n",
       "min     -52.240000  -151.130000      0.004339              -11.514866   \n",
       "25%       8.840000    -5.970000      0.008113               11.600276   \n",
       "50%      28.130000    36.350000      0.009940               18.603574   \n",
       "75%      39.380000   100.712500      0.010995               25.399146   \n",
       "max      69.920000   176.950000      0.019027               29.229099   \n",
       "\n",
       "       StandardDeviation  MinTemperature  MaxTemperature  TemperatureRange  \\\n",
       "count        3448.000000     3448.000000     3448.000000       3448.000000   \n",
       "mean            5.446304        5.922023       27.710032         21.788009   \n",
       "std             3.538202       14.343447        4.378213         12.822417   \n",
       "min             0.491174      -42.704000        9.245000          3.178000   \n",
       "25%             2.231723       -3.864000       24.766500          9.957000   \n",
       "50%             5.395297        8.575000       28.001500         21.101000   \n",
       "75%             8.082391       18.379500       30.201000         30.709250   \n",
       "max            16.417707       26.027000       39.153000         61.010000   \n",
       "\n",
       "       YearsUntil1.5TemperatureChange  \n",
       "count                     3448.000000  \n",
       "mean                       159.982058  \n",
       "std                         39.261050  \n",
       "min                         78.833984  \n",
       "25%                        136.424548  \n",
       "50%                        150.900950  \n",
       "75%                        184.894194  \n",
       "max                        345.709549  "
      ]
     },
     "execution_count": 18,
     "metadata": {},
     "output_type": "execute_result"
    }
   ],
   "source": [
    "# Create a function that assigns risk labels to \n",
    "engineered_features_df.describe()"
   ]
  },
  {
   "cell_type": "code",
   "execution_count": 28,
   "id": "37b1c485",
   "metadata": {},
   "outputs": [],
   "source": [
    "# Create a function that assigns risk labels to each city\n",
    "def assign_climate_risk_label(row):\n",
    "    rate_of_change = row['RateOfChange']\n",
    "    average_temperature = row['AverageCityTemperature']\n",
    "    standard_deviation = row['StandardDeviation']  \n",
    "    max_temperature = row['MaxTemperature']\n",
    "    temperature_range = row['TemperatureRange']\n",
    "    years_to_1_5 = row['YearsUntil1.5TemperatureChange'] \n",
    "\n",
    "    if (\n",
    "        rate_of_change > 0.015 or\n",
    "        average_temperature > 26 or\n",
    "        standard_deviation > 10 or\n",
    "        max_temperature > 34 or\n",
    "        (pd.notna(years_to_1_5) and years_to_1_5 <= 25)\n",
    "    ):\n",
    "        return 'High'\n",
    "\n",
    "    elif (\n",
    "        rate_of_change > 0.01 or\n",
    "        average_temperature > 20 or\n",
    "        standard_deviation > 6 or\n",
    "        temperature_range > 25 or\n",
    "        (pd.notna(years_to_1_5) and years_to_1_5 <= 75)\n",
    "    ):\n",
    "        return 'Moderate'\n",
    "\n",
    "    else:\n",
    "        return 'Low'\n",
    "\n",
    "    "
   ]
  },
  {
   "cell_type": "code",
   "execution_count": 29,
   "id": "8927f11b",
   "metadata": {},
   "outputs": [],
   "source": [
    "engineered_features_df['RiskLabel'] = engineered_features_df.apply(assign_climate_risk_label, axis=1)"
   ]
  },
  {
   "cell_type": "code",
   "execution_count": 32,
   "id": "051c1d83",
   "metadata": {},
   "outputs": [
    {
     "data": {
      "text/plain": [
       "Text(0, 0.5, 'Total Cities')"
      ]
     },
     "execution_count": 32,
     "metadata": {},
     "output_type": "execute_result"
    },
    {
     "data": {
      "image/png": "[encoded data removed]",
      "text/plain": [
       "<Figure size 640x480 with 1 Axes>"
      ]
     },
     "metadata": {},
     "output_type": "display_data"
    }
   ],
   "source": [
    "# Plot the label distribution\n",
    "label_counts = engineered_features_df['RiskLabel'].value_counts()\n",
    "label_counts\n",
    "plt.bar(label_counts.index, label_counts.values, color=['Red', 'Orange', 'Green'])\n",
    "plt.title('Risk Label Distribution')\n",
    "plt.xlabel('Risk Labels')\n",
    "plt.ylabel('Total Cities')"
   ]
  },
  {
   "cell_type": "markdown",
   "id": "be94fb65",
   "metadata": {},
   "source": [
    "## Model Developmet"
   ]
  },
  {
   "cell_type": "code",
   "execution_count": 66,
   "id": "5a5bfd43",
   "metadata": {},
   "outputs": [],
   "source": [
    "# Encode the risk labels to 0,1,2\n",
    "label_encoder = LabelEncoder()\n",
    "target = label_encoder.fit_transform(engineered_features_df['RiskLabel'])"
   ]
  },
  {
   "cell_type": "code",
   "execution_count": 67,
   "id": "a592118e",
   "metadata": {},
   "outputs": [],
   "source": [
    "# Split dataset into trainiing and testing sets\n",
    "features = engineered_features_df.drop(columns=['City', 'Country', 'RiskLabel'])\n",
    "x_train, x_test, y_train, y_test = train_test_split(features, target, test_size=.4, stratify=target, random_state=42)"
   ]
  },
  {
   "cell_type": "code",
   "execution_count": 68,
   "id": "20c85ac5",
   "metadata": {},
   "outputs": [],
   "source": [
    "# Normalize Features\n",
    "\n",
    "scaler = StandardScaler()\n",
    "x_train_scaled = scaler.fit_transform(x_train)\n",
    "x_test_scaled = scaler.fit_transform(x_test)"
   ]
  },
  {
   "cell_type": "code",
   "execution_count": 69,
   "id": "9d0370a1",
   "metadata": {},
   "outputs": [],
   "source": [
    "# LogisticRegression Classifier\n",
    "logistic_regression_model = LogisticRegression(max_iter=100, class_weight='balanced')"
   ]
  },
  {
   "cell_type": "code",
   "execution_count": 70,
   "id": "ee5fdebc",
   "metadata": {},
   "outputs": [],
   "source": [
    "# Parameter grid for GridSearchCv\n",
    "parameter_grid_logistic_regression = {\n",
    "     'multi_class': ['multinomial'],\n",
    "    'solver': ['newton-cg', 'sag', 'saga', 'lbfgs'],\n",
    "    'penalty': ['l2', None], # All solvers can accept these penalties (simplicity)\n",
    "    'C': [0.01, 0.1, 1, 10]\n",
    "}"
   ]
  },
  {
   "cell_type": "code",
   "execution_count": 71,
   "id": "9de3797f",
   "metadata": {},
   "outputs": [],
   "source": [
    "# GridSearchCv\n",
    "grid_search_cv_logistic_regression = GridSearchCV(estimator=logistic_regression_model, param_grid=parameter_grid_logistic_regression, cv=5, n_jobs=-1)"
   ]
  },
  {
   "cell_type": "code",
   "execution_count": 72,
   "id": "b94fb8e3",
   "metadata": {},
   "outputs": [
    {
     "data": {
      "text/html": [
       "<style>#sk-container-id-5 {color: black;}#sk-container-id-5 pre{padding: 0;}#sk-container-id-5 div.sk-toggleable {background-color: white;}#sk-container-id-5 label.sk-toggleable__label {cursor: pointer;display: block;width: 100%;margin-bottom: 0;padding: 0.3em;box-sizing: border-box;text-align: center;}#sk-container-id-5 label.sk-toggleable__label-arrow:before {content: \"▸\";float: left;margin-right: 0.25em;color: #696969;}#sk-container-id-5 label.sk-toggleable__label-arrow:hover:before {color: black;}#sk-container-id-5 div.sk-estimator:hover label.sk-toggleable__label-arrow:before {color: black;}#sk-container-id-5 div.sk-toggleable__content {max-height: 0;max-width: 0;overflow: hidden;text-align: left;background-color: #f0f8ff;}#sk-container-id-5 div.sk-toggleable__content pre {margin: 0.2em;color: black;border-radius: 0.25em;background-color: #f0f8ff;}#sk-container-id-5 input.sk-toggleable__control:checked~div.sk-toggleable__content {max-height: 200px;max-width: 100%;overflow: auto;}#sk-container-id-5 input.sk-toggleable__control:checked~label.sk-toggleable__label-arrow:before {content: \"▾\";}#sk-container-id-5 div.sk-estimator input.sk-toggleable__control:checked~label.sk-toggleable__label {background-color: #d4ebff;}#sk-container-id-5 div.sk-label input.sk-toggleable__control:checked~label.sk-toggleable__label {background-color: #d4ebff;}#sk-container-id-5 input.sk-hidden--visually {border: 0;clip: rect(1px 1px 1px 1px);clip: rect(1px, 1px, 1px, 1px);height: 1px;margin: -1px;overflow: hidden;padding: 0;position: absolute;width: 1px;}#sk-container-id-5 div.sk-estimator {font-family: monospace;background-color: #f0f8ff;border: 1px dotted black;border-radius: 0.25em;box-sizing: border-box;margin-bottom: 0.5em;}#sk-container-id-5 div.sk-estimator:hover {background-color: #d4ebff;}#sk-container-id-5 div.sk-parallel-item::after {content: \"\";width: 100%;border-bottom: 1px solid gray;flex-grow: 1;}#sk-container-id-5 div.sk-label:hover label.sk-toggleable__label {background-color: #d4ebff;}#sk-container-id-5 div.sk-serial::before {content: \"\";position: absolute;border-left: 1px solid gray;box-sizing: border-box;top: 0;bottom: 0;left: 50%;z-index: 0;}#sk-container-id-5 div.sk-serial {display: flex;flex-direction: column;align-items: center;background-color: white;padding-right: 0.2em;padding-left: 0.2em;position: relative;}#sk-container-id-5 div.sk-item {position: relative;z-index: 1;}#sk-container-id-5 div.sk-parallel {display: flex;align-items: stretch;justify-content: center;background-color: white;position: relative;}#sk-container-id-5 div.sk-item::before, #sk-container-id-5 div.sk-parallel-item::before {content: \"\";position: absolute;border-left: 1px solid gray;box-sizing: border-box;top: 0;bottom: 0;left: 50%;z-index: -1;}#sk-container-id-5 div.sk-parallel-item {display: flex;flex-direction: column;z-index: 1;position: relative;background-color: white;}#sk-container-id-5 div.sk-parallel-item:first-child::after {align-self: flex-end;width: 50%;}#sk-container-id-5 div.sk-parallel-item:last-child::after {align-self: flex-start;width: 50%;}#sk-container-id-5 div.sk-parallel-item:only-child::after {width: 0;}#sk-container-id-5 div.sk-dashed-wrapped {border: 1px dashed gray;margin: 0 0.4em 0.5em 0.4em;box-sizing: border-box;padding-bottom: 0.4em;background-color: white;}#sk-container-id-5 div.sk-label label {font-family: monospace;font-weight: bold;display: inline-block;line-height: 1.2em;}#sk-container-id-5 div.sk-label-container {text-align: center;}#sk-container-id-5 div.sk-container {/* jupyter's `normalize.less` sets `[hidden] { display: none; }` but bootstrap.min.css set `[hidden] { display: none !important; }` so we also need the `!important` here to be able to override the default hidden behavior on the sphinx rendered scikit-learn.org. See: https://github.com/scikit-learn/scikit-learn/issues/21755 */display: inline-block !important;position: relative;}#sk-container-id-5 div.sk-text-repr-fallback {display: none;}</style><div id=\"sk-container-id-5\" class=\"sk-top-container\"><div class=\"sk-text-repr-fallback\"><pre>GridSearchCV(cv=5, estimator=LogisticRegression(class_weight=&#x27;balanced&#x27;),\n",
       "             n_jobs=-1,\n",
       "             param_grid={&#x27;C&#x27;: [0.01, 0.1, 1, 10],\n",
       "                         &#x27;multi_class&#x27;: [&#x27;multinomial&#x27;],\n",
       "                         &#x27;penalty&#x27;: [&#x27;l2&#x27;, None],\n",
       "                         &#x27;solver&#x27;: [&#x27;newton-cg&#x27;, &#x27;sag&#x27;, &#x27;saga&#x27;, &#x27;lbfgs&#x27;]})</pre><b>In a Jupyter environment, please rerun this cell to show the HTML representation or trust the notebook. <br />On GitHub, the HTML representation is unable to render, please try loading this page with nbviewer.org.</b></div><div class=\"sk-container\" hidden><div class=\"sk-item sk-dashed-wrapped\"><div class=\"sk-label-container\"><div class=\"sk-label sk-toggleable\"><input class=\"sk-toggleable__control sk-hidden--visually\" id=\"sk-estimator-id-13\" type=\"checkbox\" ><label for=\"sk-estimator-id-13\" class=\"sk-toggleable__label sk-toggleable__label-arrow\">GridSearchCV</label><div class=\"sk-toggleable__content\"><pre>GridSearchCV(cv=5, estimator=LogisticRegression(class_weight=&#x27;balanced&#x27;),\n",
       "             n_jobs=-1,\n",
       "             param_grid={&#x27;C&#x27;: [0.01, 0.1, 1, 10],\n",
       "                         &#x27;multi_class&#x27;: [&#x27;multinomial&#x27;],\n",
       "                         &#x27;penalty&#x27;: [&#x27;l2&#x27;, None],\n",
       "                         &#x27;solver&#x27;: [&#x27;newton-cg&#x27;, &#x27;sag&#x27;, &#x27;saga&#x27;, &#x27;lbfgs&#x27;]})</pre></div></div></div><div class=\"sk-parallel\"><div class=\"sk-parallel-item\"><div class=\"sk-item\"><div class=\"sk-label-container\"><div class=\"sk-label sk-toggleable\"><input class=\"sk-toggleable__control sk-hidden--visually\" id=\"sk-estimator-id-14\" type=\"checkbox\" ><label for=\"sk-estimator-id-14\" class=\"sk-toggleable__label sk-toggleable__label-arrow\">estimator: LogisticRegression</label><div class=\"sk-toggleable__content\"><pre>LogisticRegression(class_weight=&#x27;balanced&#x27;)</pre></div></div></div><div class=\"sk-serial\"><div class=\"sk-item\"><div class=\"sk-estimator sk-toggleable\"><input class=\"sk-toggleable__control sk-hidden--visually\" id=\"sk-estimator-id-15\" type=\"checkbox\" ><label for=\"sk-estimator-id-15\" class=\"sk-toggleable__label sk-toggleable__label-arrow\">LogisticRegression</label><div class=\"sk-toggleable__content\"><pre>LogisticRegression(class_weight=&#x27;balanced&#x27;)</pre></div></div></div></div></div></div></div></div></div></div>"
      ],
      "text/plain": [
       "GridSearchCV(cv=5, estimator=LogisticRegression(class_weight='balanced'),\n",
       "             n_jobs=-1,\n",
       "             param_grid={'C': [0.01, 0.1, 1, 10],\n",
       "                         'multi_class': ['multinomial'],\n",
       "                         'penalty': ['l2', None],\n",
       "                         'solver': ['newton-cg', 'sag', 'saga', 'lbfgs']})"
      ]
     },
     "execution_count": 72,
     "metadata": {},
     "output_type": "execute_result"
    }
   ],
   "source": [
    "# Fit the model and cross-validate\n",
    "grid_search_cv_logistic_regression.fit(x_train_scaled, y_train)"
   ]
  },
  {
   "cell_type": "code",
   "execution_count": 73,
   "id": "99056017",
   "metadata": {},
   "outputs": [
    {
     "name": "stdout",
     "output_type": "stream",
     "text": [
      "Best Parameters: {'C': 1, 'multi_class': 'multinomial', 'penalty': 'l2', 'solver': 'saga'}\n"
     ]
    }
   ],
   "source": [
    "# Best params and score\n",
    "print(\"Best Parameters:\", grid_search_cv_logistic_regression.best_params_)\n"
   ]
  },
  {
   "cell_type": "code",
   "execution_count": 74,
   "id": "8c8e3b15",
   "metadata": {},
   "outputs": [
    {
     "data": {
      "image/png": "[encoded data removed]",
      "text/plain": [
       "<Figure size 800x600 with 1 Axes>"
      ]
     },
     "metadata": {},
     "output_type": "display_data"
    }
   ],
   "source": [
    "# Hyperparameter tuning plot for logistical regression\n",
    "logistic_regression_results = grid_search_cv_logistic_regression.cv_results_\n",
    "\n",
    "solver_scores = defaultdict(list)\n",
    "\n",
    "for params, score in zip(logistic_regression_results['params'], logistic_regression_results['mean_test_score']):\n",
    "    if params['multi_class'] == 'multinomial' and str(params['penalty']) == 'l2':\n",
    "        solver = params['solver']\n",
    "        C = params['C']\n",
    "        solver_scores[solver].append((C, score))\n",
    "\n",
    "# Plot all solvers \n",
    "plt.figure(figsize=(8, 6))\n",
    "for solver, scores in solver_scores.items():\n",
    "    scores.sort()\n",
    "    Cs, mean_scores = zip(*scores)\n",
    "    plt.plot(Cs, mean_scores, marker='o', label=f'solver={solver}')\n",
    "\n",
    "plt.xscale('log')\n",
    "plt.xlabel('C (Regularization)')\n",
    "plt.ylabel('Mean CV F1 Macro')\n",
    "plt.title('Logistic Regression Hyperparameter Tuning by Solver')\n",
    "plt.grid(True)\n",
    "plt.legend()\n",
    "plt.tight_layout()"
   ]
  },
  {
   "cell_type": "code",
   "execution_count": 75,
   "id": "0c2d6e89",
   "metadata": {},
   "outputs": [],
   "source": [
    "# Training vs Tesing\n",
    "logistic_regression_y_pred_training_data = grid_search_cv_logistic_regression.predict(x_train_scaled)\n",
    "logistic_regression_y_pred_testing_data = grid_search_cv_logistic_regression.predict(x_test_scaled)"
   ]
  },
  {
   "cell_type": "code",
   "execution_count": 78,
   "id": "c98905c2",
   "metadata": {},
   "outputs": [
    {
     "name": "stdout",
     "output_type": "stream",
     "text": [
      "Classification Report for Logistical Regression: Training Set: \n",
      "               precision    recall  f1-score   support\n",
      "\n",
      "         Low       0.77      0.88      0.82       736\n",
      "    Moderate       0.49      0.79      0.60       197\n",
      "        High       0.86      0.69      0.77      1135\n",
      "\n",
      "    accuracy                           0.77      2068\n",
      "   macro avg       0.71      0.79      0.73      2068\n",
      "weighted avg       0.79      0.77      0.77      2068\n",
      "\n",
      "Classification Report for Logistical Regression: Testing Set: \n",
      "               precision    recall  f1-score   support\n",
      "\n",
      "         Low       0.72      0.83      0.77       491\n",
      "    Moderate       0.52      0.82      0.64       132\n",
      "        High       0.83      0.66      0.73       757\n",
      "\n",
      "    accuracy                           0.74      1380\n",
      "   macro avg       0.69      0.77      0.71      1380\n",
      "weighted avg       0.76      0.74      0.74      1380\n",
      "\n"
     ]
    }
   ],
   "source": [
    "# Classification Report for training and testing \n",
    "print('Classification Report for Logistical Regression: Training Set: \\n', classification_report(y_train, logistic_regression_y_pred_training_data, target_names=['Low', 'Moderate', 'High']))\n",
    "print('Classification Report for Logistical Regression: Testing Set: \\n', classification_report(y_test, logistic_regression_y_pred_testing_data, target_names=['Low', 'Moderate', 'High']))"
   ]
  },
  {
   "cell_type": "code",
   "execution_count": 85,
   "id": "2e459061",
   "metadata": {},
   "outputs": [],
   "source": [
    "# Support Vector Machine\n",
    "suppor_vector_machine_model = SVC()"
   ]
  },
  {
   "cell_type": "code",
   "execution_count": 86,
   "id": "2008828c",
   "metadata": {},
   "outputs": [],
   "source": [
    "# Parameter grid for SVM\n",
    "parameter_grid_svm = [\n",
    "    {'kernel': ['linear'], 'C': [0.01, 0.1, 1, 10, 100]},\n",
    "    {'kernel': ['rbf'], 'C': [0.01, 0.1, 1, 10, 100], 'gamma': [0.01, 0.1, 1, 10, 100]}\n",
    "]"
   ]
  },
  {
   "cell_type": "code",
   "execution_count": 87,
   "id": "6f94ea1d",
   "metadata": {},
   "outputs": [],
   "source": [
    "#GridSearchCv for SVM\n",
    "grid_search_cv_svm = GridSearchCV(estimator=suppor_vector_machine_model, param_grid=parameter_grid_svm, cv=5, n_jobs=-1)"
   ]
  },
  {
   "cell_type": "code",
   "execution_count": 88,
   "id": "ca3408d2",
   "metadata": {},
   "outputs": [
    {
     "data": {
      "text/html": [
       "<style>#sk-container-id-6 {color: black;}#sk-container-id-6 pre{padding: 0;}#sk-container-id-6 div.sk-toggleable {background-color: white;}#sk-container-id-6 label.sk-toggleable__label {cursor: pointer;display: block;width: 100%;margin-bottom: 0;padding: 0.3em;box-sizing: border-box;text-align: center;}#sk-container-id-6 label.sk-toggleable__label-arrow:before {content: \"▸\";float: left;margin-right: 0.25em;color: #696969;}#sk-container-id-6 label.sk-toggleable__label-arrow:hover:before {color: black;}#sk-container-id-6 div.sk-estimator:hover label.sk-toggleable__label-arrow:before {color: black;}#sk-container-id-6 div.sk-toggleable__content {max-height: 0;max-width: 0;overflow: hidden;text-align: left;background-color: #f0f8ff;}#sk-container-id-6 div.sk-toggleable__content pre {margin: 0.2em;color: black;border-radius: 0.25em;background-color: #f0f8ff;}#sk-container-id-6 input.sk-toggleable__control:checked~div.sk-toggleable__content {max-height: 200px;max-width: 100%;overflow: auto;}#sk-container-id-6 input.sk-toggleable__control:checked~label.sk-toggleable__label-arrow:before {content: \"▾\";}#sk-container-id-6 div.sk-estimator input.sk-toggleable__control:checked~label.sk-toggleable__label {background-color: #d4ebff;}#sk-container-id-6 div.sk-label input.sk-toggleable__control:checked~label.sk-toggleable__label {background-color: #d4ebff;}#sk-container-id-6 input.sk-hidden--visually {border: 0;clip: rect(1px 1px 1px 1px);clip: rect(1px, 1px, 1px, 1px);height: 1px;margin: -1px;overflow: hidden;padding: 0;position: absolute;width: 1px;}#sk-container-id-6 div.sk-estimator {font-family: monospace;background-color: #f0f8ff;border: 1px dotted black;border-radius: 0.25em;box-sizing: border-box;margin-bottom: 0.5em;}#sk-container-id-6 div.sk-estimator:hover {background-color: #d4ebff;}#sk-container-id-6 div.sk-parallel-item::after {content: \"\";width: 100%;border-bottom: 1px solid gray;flex-grow: 1;}#sk-container-id-6 div.sk-label:hover label.sk-toggleable__label {background-color: #d4ebff;}#sk-container-id-6 div.sk-serial::before {content: \"\";position: absolute;border-left: 1px solid gray;box-sizing: border-box;top: 0;bottom: 0;left: 50%;z-index: 0;}#sk-container-id-6 div.sk-serial {display: flex;flex-direction: column;align-items: center;background-color: white;padding-right: 0.2em;padding-left: 0.2em;position: relative;}#sk-container-id-6 div.sk-item {position: relative;z-index: 1;}#sk-container-id-6 div.sk-parallel {display: flex;align-items: stretch;justify-content: center;background-color: white;position: relative;}#sk-container-id-6 div.sk-item::before, #sk-container-id-6 div.sk-parallel-item::before {content: \"\";position: absolute;border-left: 1px solid gray;box-sizing: border-box;top: 0;bottom: 0;left: 50%;z-index: -1;}#sk-container-id-6 div.sk-parallel-item {display: flex;flex-direction: column;z-index: 1;position: relative;background-color: white;}#sk-container-id-6 div.sk-parallel-item:first-child::after {align-self: flex-end;width: 50%;}#sk-container-id-6 div.sk-parallel-item:last-child::after {align-self: flex-start;width: 50%;}#sk-container-id-6 div.sk-parallel-item:only-child::after {width: 0;}#sk-container-id-6 div.sk-dashed-wrapped {border: 1px dashed gray;margin: 0 0.4em 0.5em 0.4em;box-sizing: border-box;padding-bottom: 0.4em;background-color: white;}#sk-container-id-6 div.sk-label label {font-family: monospace;font-weight: bold;display: inline-block;line-height: 1.2em;}#sk-container-id-6 div.sk-label-container {text-align: center;}#sk-container-id-6 div.sk-container {/* jupyter's `normalize.less` sets `[hidden] { display: none; }` but bootstrap.min.css set `[hidden] { display: none !important; }` so we also need the `!important` here to be able to override the default hidden behavior on the sphinx rendered scikit-learn.org. See: https://github.com/scikit-learn/scikit-learn/issues/21755 */display: inline-block !important;position: relative;}#sk-container-id-6 div.sk-text-repr-fallback {display: none;}</style><div id=\"sk-container-id-6\" class=\"sk-top-container\"><div class=\"sk-text-repr-fallback\"><pre>GridSearchCV(cv=5, estimator=SVC(), n_jobs=-1,\n",
       "             param_grid=[{&#x27;C&#x27;: [0.01, 0.1, 1, 10, 100], &#x27;kernel&#x27;: [&#x27;linear&#x27;]},\n",
       "                         {&#x27;C&#x27;: [0.01, 0.1, 1, 10, 100],\n",
       "                          &#x27;gamma&#x27;: [0.01, 0.1, 1, 10, 100],\n",
       "                          &#x27;kernel&#x27;: [&#x27;rbf&#x27;]}])</pre><b>In a Jupyter environment, please rerun this cell to show the HTML representation or trust the notebook. <br />On GitHub, the HTML representation is unable to render, please try loading this page with nbviewer.org.</b></div><div class=\"sk-container\" hidden><div class=\"sk-item sk-dashed-wrapped\"><div class=\"sk-label-container\"><div class=\"sk-label sk-toggleable\"><input class=\"sk-toggleable__control sk-hidden--visually\" id=\"sk-estimator-id-16\" type=\"checkbox\" ><label for=\"sk-estimator-id-16\" class=\"sk-toggleable__label sk-toggleable__label-arrow\">GridSearchCV</label><div class=\"sk-toggleable__content\"><pre>GridSearchCV(cv=5, estimator=SVC(), n_jobs=-1,\n",
       "             param_grid=[{&#x27;C&#x27;: [0.01, 0.1, 1, 10, 100], &#x27;kernel&#x27;: [&#x27;linear&#x27;]},\n",
       "                         {&#x27;C&#x27;: [0.01, 0.1, 1, 10, 100],\n",
       "                          &#x27;gamma&#x27;: [0.01, 0.1, 1, 10, 100],\n",
       "                          &#x27;kernel&#x27;: [&#x27;rbf&#x27;]}])</pre></div></div></div><div class=\"sk-parallel\"><div class=\"sk-parallel-item\"><div class=\"sk-item\"><div class=\"sk-label-container\"><div class=\"sk-label sk-toggleable\"><input class=\"sk-toggleable__control sk-hidden--visually\" id=\"sk-estimator-id-17\" type=\"checkbox\" ><label for=\"sk-estimator-id-17\" class=\"sk-toggleable__label sk-toggleable__label-arrow\">estimator: SVC</label><div class=\"sk-toggleable__content\"><pre>SVC()</pre></div></div></div><div class=\"sk-serial\"><div class=\"sk-item\"><div class=\"sk-estimator sk-toggleable\"><input class=\"sk-toggleable__control sk-hidden--visually\" id=\"sk-estimator-id-18\" type=\"checkbox\" ><label for=\"sk-estimator-id-18\" class=\"sk-toggleable__label sk-toggleable__label-arrow\">SVC</label><div class=\"sk-toggleable__content\"><pre>SVC()</pre></div></div></div></div></div></div></div></div></div></div>"
      ],
      "text/plain": [
       "GridSearchCV(cv=5, estimator=SVC(), n_jobs=-1,\n",
       "             param_grid=[{'C': [0.01, 0.1, 1, 10, 100], 'kernel': ['linear']},\n",
       "                         {'C': [0.01, 0.1, 1, 10, 100],\n",
       "                          'gamma': [0.01, 0.1, 1, 10, 100],\n",
       "                          'kernel': ['rbf']}])"
      ]
     },
     "execution_count": 88,
     "metadata": {},
     "output_type": "execute_result"
    }
   ],
   "source": [
    "# Fit the model using scaled features\n",
    "grid_search_cv_svm.fit(x_train_scaled, y_train)"
   ]
  },
  {
   "cell_type": "code",
   "execution_count": 89,
   "id": "7f4354fc",
   "metadata": {},
   "outputs": [
    {
     "name": "stdout",
     "output_type": "stream",
     "text": [
      "Best Params for SVM:  {'C': 100, 'gamma': 1, 'kernel': 'rbf'}\n"
     ]
    }
   ],
   "source": [
    "print('Best Params for SVM: ', grid_search_cv_svm.best_params_)"
   ]
  },
  {
   "cell_type": "code",
   "execution_count": 90,
   "id": "4d9e1877",
   "metadata": {},
   "outputs": [
    {
     "name": "stderr",
     "output_type": "stream",
     "text": [
      "C:\\Users\\Eppys\\AppData\\Local\\Temp\\ipykernel_18944\\1390310012.py:15: RuntimeWarning: More than 20 figures have been opened. Figures created through the pyplot interface (`matplotlib.pyplot.figure`) are retained until explicitly closed and may consume too much memory. (To control this warning, see the rcParam `figure.max_open_warning`). Consider using `matplotlib.pyplot.close()`.\n",
      "  plt.figure(figsize=(8, 6))\n"
     ]
    },
    {
     "data": {
      "text/plain": [
       "<Figure size 800x600 with 0 Axes>"
      ]
     },
     "metadata": {},
     "output_type": "display_data"
    },
    {
     "data": {
      "text/plain": [
       "<Figure size 800x600 with 0 Axes>"
      ]
     },
     "metadata": {},
     "output_type": "display_data"
    },
    {
     "data": {
      "text/plain": [
       "<Figure size 800x600 with 0 Axes>"
      ]
     },
     "metadata": {},
     "output_type": "display_data"
    },
    {
     "data": {
      "text/plain": [
       "<Figure size 800x600 with 0 Axes>"
      ]
     },
     "metadata": {},
     "output_type": "display_data"
    },
    {
     "data": {
      "text/plain": [
       "<Figure size 800x600 with 0 Axes>"
      ]
     },
     "metadata": {},
     "output_type": "display_data"
    },
    {
     "data": {
      "text/plain": [
       "<Figure size 800x600 with 0 Axes>"
      ]
     },
     "metadata": {},
     "output_type": "display_data"
    },
    {
     "data": {
      "text/plain": [
       "<Figure size 800x600 with 0 Axes>"
      ]
     },
     "metadata": {},
     "output_type": "display_data"
    },
    {
     "data": {
      "text/plain": [
       "<Figure size 800x600 with 0 Axes>"
      ]
     },
     "metadata": {},
     "output_type": "display_data"
    },
    {
     "data": {
      "text/plain": [
       "<Figure size 800x600 with 0 Axes>"
      ]
     },
     "metadata": {},
     "output_type": "display_data"
    },
    {
     "data": {
      "text/plain": [
       "<Figure size 800x600 with 0 Axes>"
      ]
     },
     "metadata": {},
     "output_type": "display_data"
    },
    {
     "data": {
      "text/plain": [
       "<Figure size 800x600 with 0 Axes>"
      ]
     },
     "metadata": {},
     "output_type": "display_data"
    },
    {
     "data": {
      "text/plain": [
       "<Figure size 800x600 with 0 Axes>"
      ]
     },
     "metadata": {},
     "output_type": "display_data"
    },
    {
     "data": {
      "text/plain": [
       "<Figure size 800x600 with 0 Axes>"
      ]
     },
     "metadata": {},
     "output_type": "display_data"
    },
    {
     "data": {
      "text/plain": [
       "<Figure size 800x600 with 0 Axes>"
      ]
     },
     "metadata": {},
     "output_type": "display_data"
    },
    {
     "data": {
      "text/plain": [
       "<Figure size 800x600 with 0 Axes>"
      ]
     },
     "metadata": {},
     "output_type": "display_data"
    },
    {
     "data": {
      "text/plain": [
       "<Figure size 800x600 with 0 Axes>"
      ]
     },
     "metadata": {},
     "output_type": "display_data"
    },
    {
     "data": {
      "text/plain": [
       "<Figure size 800x600 with 0 Axes>"
      ]
     },
     "metadata": {},
     "output_type": "display_data"
    },
    {
     "data": {
      "text/plain": [
       "<Figure size 800x600 with 0 Axes>"
      ]
     },
     "metadata": {},
     "output_type": "display_data"
    },
    {
     "data": {
      "text/plain": [
       "<Figure size 800x600 with 0 Axes>"
      ]
     },
     "metadata": {},
     "output_type": "display_data"
    },
    {
     "data": {
      "text/plain": [
       "<Figure size 800x600 with 0 Axes>"
      ]
     },
     "metadata": {},
     "output_type": "display_data"
    },
    {
     "data": {
      "text/plain": [
       "<Figure size 800x600 with 0 Axes>"
      ]
     },
     "metadata": {},
     "output_type": "display_data"
    },
    {
     "data": {
      "text/plain": [
       "<Figure size 800x600 with 0 Axes>"
      ]
     },
     "metadata": {},
     "output_type": "display_data"
    },
    {
     "data": {
      "text/plain": [
       "<Figure size 800x600 with 0 Axes>"
      ]
     },
     "metadata": {},
     "output_type": "display_data"
    },
    {
     "data": {
      "text/plain": [
       "<Figure size 800x600 with 0 Axes>"
      ]
     },
     "metadata": {},
     "output_type": "display_data"
    },
    {
     "data": {
      "image/png": "[encoded data removed]",
      "text/plain": [
       "<Figure size 800x600 with 1 Axes>"
      ]
     },
     "metadata": {},
     "output_type": "display_data"
    }
   ],
   "source": [
    "svm_results = grid_search_cv_svm.cv_results_\n",
    "\n",
    "# Get entries for kernel='rbf'\n",
    "rbf_results = [\n",
    "    (params['C'], params['gamma'], score)\n",
    "    for params, score in zip(svm_results['params'], svm_results['mean_test_score'])\n",
    "    if params['kernel'] == 'rbf'\n",
    "]\n",
    "\n",
    "gamma_scores = defaultdict(list)\n",
    "\n",
    "for C, gamma, score in rbf_results:\n",
    "    gamma_scores[gamma].append((C, score))\n",
    "\n",
    "    plt.figure(figsize=(8, 6))\n",
    "for gamma, scores in gamma_scores.items():\n",
    "    scores.sort()  # sort by C\n",
    "    Cs, accs = zip(*scores)\n",
    "    plt.plot(Cs, accs, marker='o', label=f'gamma={gamma}')\n",
    "\n",
    "plt.xscale('log')\n",
    "plt.xlabel('C (Regularization)')\n",
    "plt.ylabel('Mean CV Accuracy')\n",
    "plt.title('SVM Hyperparameter Tuning (rbf kernel)')\n",
    "plt.legend()\n",
    "plt.grid(True)"
   ]
  },
  {
   "cell_type": "code",
   "execution_count": 92,
   "id": "8c32e7bc",
   "metadata": {},
   "outputs": [],
   "source": [
    "# Training vs  Testing \n",
    "svm_y_pred_training_data = grid_search_cv_svm.predict(x_train_scaled)\n",
    "svm_y_pred_testing_data = grid_search_cv_svm.predict(x_test_scaled)"
   ]
  },
  {
   "cell_type": "code",
   "execution_count": 93,
   "id": "67aec5e6",
   "metadata": {},
   "outputs": [
    {
     "name": "stdout",
     "output_type": "stream",
     "text": [
      "Classification Report for Support Vector Machine: Training Set: \n",
      "               precision    recall  f1-score   support\n",
      "\n",
      "         Low       1.00      1.00      1.00       736\n",
      "    Moderate       1.00      0.99      1.00       197\n",
      "        High       1.00      1.00      1.00      1135\n",
      "\n",
      "    accuracy                           1.00      2068\n",
      "   macro avg       1.00      1.00      1.00      2068\n",
      "weighted avg       1.00      1.00      1.00      2068\n",
      "\n",
      "Classification Report for Support Vector Machine: Testing Set: \n",
      "               precision    recall  f1-score   support\n",
      "\n",
      "         Low       0.98      0.95      0.96       491\n",
      "    Moderate       0.98      0.96      0.97       132\n",
      "        High       0.96      0.98      0.97       757\n",
      "\n",
      "    accuracy                           0.97      1380\n",
      "   macro avg       0.97      0.96      0.97      1380\n",
      "weighted avg       0.97      0.97      0.97      1380\n",
      "\n"
     ]
    }
   ],
   "source": [
    "# Classification Report for training and testing \n",
    "print('Classification Report for Support Vector Machine: Training Set: \\n', classification_report(y_train, svm_y_pred_training_data, target_names=['Low', 'Moderate', 'High']))\n",
    "print('Classification Report for Support Vector Machine: Testing Set: \\n', classification_report(y_test, svm_y_pred_testing_data, target_names=['Low', 'Moderate', 'High']))"
   ]
  },
  {
   "cell_type": "code",
   "execution_count": 94,
   "id": "9051e5e2",
   "metadata": {},
   "outputs": [],
   "source": [
    "# Random Forest\n",
    "random_forest_model = RandomForestClassifier()"
   ]
  },
  {
   "cell_type": "code",
   "execution_count": 97,
   "id": "84fb1e1a",
   "metadata": {},
   "outputs": [],
   "source": [
    "# Parameter grid random forest \n",
    "param_grid_random_forest = {\n",
    "    'n_estimators': [100, 200],\n",
    "    'max_depth': [None, 10, 20],\n",
    "    'min_samples_split': [2, 5, 10]\n",
    "}"
   ]
  },
  {
   "cell_type": "code",
   "execution_count": 98,
   "id": "e68ecd67",
   "metadata": {},
   "outputs": [],
   "source": [
    "# GridsearchCv random forest\n",
    "grid_search_cv_random_forest = GridSearchCV(estimator=random_forest_model, param_grid=param_grid_random_forest, cv=5, n_jobs=-1)"
   ]
  },
  {
   "cell_type": "code",
   "execution_count": 99,
   "id": "f63ce918",
   "metadata": {},
   "outputs": [
    {
     "data": {
      "text/html": [
       "<style>#sk-container-id-7 {color: black;}#sk-container-id-7 pre{padding: 0;}#sk-container-id-7 div.sk-toggleable {background-color: white;}#sk-container-id-7 label.sk-toggleable__label {cursor: pointer;display: block;width: 100%;margin-bottom: 0;padding: 0.3em;box-sizing: border-box;text-align: center;}#sk-container-id-7 label.sk-toggleable__label-arrow:before {content: \"▸\";float: left;margin-right: 0.25em;color: #696969;}#sk-container-id-7 label.sk-toggleable__label-arrow:hover:before {color: black;}#sk-container-id-7 div.sk-estimator:hover label.sk-toggleable__label-arrow:before {color: black;}#sk-container-id-7 div.sk-toggleable__content {max-height: 0;max-width: 0;overflow: hidden;text-align: left;background-color: #f0f8ff;}#sk-container-id-7 div.sk-toggleable__content pre {margin: 0.2em;color: black;border-radius: 0.25em;background-color: #f0f8ff;}#sk-container-id-7 input.sk-toggleable__control:checked~div.sk-toggleable__content {max-height: 200px;max-width: 100%;overflow: auto;}#sk-container-id-7 input.sk-toggleable__control:checked~label.sk-toggleable__label-arrow:before {content: \"▾\";}#sk-container-id-7 div.sk-estimator input.sk-toggleable__control:checked~label.sk-toggleable__label {background-color: #d4ebff;}#sk-container-id-7 div.sk-label input.sk-toggleable__control:checked~label.sk-toggleable__label {background-color: #d4ebff;}#sk-container-id-7 input.sk-hidden--visually {border: 0;clip: rect(1px 1px 1px 1px);clip: rect(1px, 1px, 1px, 1px);height: 1px;margin: -1px;overflow: hidden;padding: 0;position: absolute;width: 1px;}#sk-container-id-7 div.sk-estimator {font-family: monospace;background-color: #f0f8ff;border: 1px dotted black;border-radius: 0.25em;box-sizing: border-box;margin-bottom: 0.5em;}#sk-container-id-7 div.sk-estimator:hover {background-color: #d4ebff;}#sk-container-id-7 div.sk-parallel-item::after {content: \"\";width: 100%;border-bottom: 1px solid gray;flex-grow: 1;}#sk-container-id-7 div.sk-label:hover label.sk-toggleable__label {background-color: #d4ebff;}#sk-container-id-7 div.sk-serial::before {content: \"\";position: absolute;border-left: 1px solid gray;box-sizing: border-box;top: 0;bottom: 0;left: 50%;z-index: 0;}#sk-container-id-7 div.sk-serial {display: flex;flex-direction: column;align-items: center;background-color: white;padding-right: 0.2em;padding-left: 0.2em;position: relative;}#sk-container-id-7 div.sk-item {position: relative;z-index: 1;}#sk-container-id-7 div.sk-parallel {display: flex;align-items: stretch;justify-content: center;background-color: white;position: relative;}#sk-container-id-7 div.sk-item::before, #sk-container-id-7 div.sk-parallel-item::before {content: \"\";position: absolute;border-left: 1px solid gray;box-sizing: border-box;top: 0;bottom: 0;left: 50%;z-index: -1;}#sk-container-id-7 div.sk-parallel-item {display: flex;flex-direction: column;z-index: 1;position: relative;background-color: white;}#sk-container-id-7 div.sk-parallel-item:first-child::after {align-self: flex-end;width: 50%;}#sk-container-id-7 div.sk-parallel-item:last-child::after {align-self: flex-start;width: 50%;}#sk-container-id-7 div.sk-parallel-item:only-child::after {width: 0;}#sk-container-id-7 div.sk-dashed-wrapped {border: 1px dashed gray;margin: 0 0.4em 0.5em 0.4em;box-sizing: border-box;padding-bottom: 0.4em;background-color: white;}#sk-container-id-7 div.sk-label label {font-family: monospace;font-weight: bold;display: inline-block;line-height: 1.2em;}#sk-container-id-7 div.sk-label-container {text-align: center;}#sk-container-id-7 div.sk-container {/* jupyter's `normalize.less` sets `[hidden] { display: none; }` but bootstrap.min.css set `[hidden] { display: none !important; }` so we also need the `!important` here to be able to override the default hidden behavior on the sphinx rendered scikit-learn.org. See: https://github.com/scikit-learn/scikit-learn/issues/21755 */display: inline-block !important;position: relative;}#sk-container-id-7 div.sk-text-repr-fallback {display: none;}</style><div id=\"sk-container-id-7\" class=\"sk-top-container\"><div class=\"sk-text-repr-fallback\"><pre>GridSearchCV(cv=5, estimator=RandomForestClassifier(), n_jobs=-1,\n",
       "             param_grid={&#x27;max_depth&#x27;: [None, 10, 20],\n",
       "                         &#x27;min_samples_split&#x27;: [2, 5, 10],\n",
       "                         &#x27;n_estimators&#x27;: [100, 200]})</pre><b>In a Jupyter environment, please rerun this cell to show the HTML representation or trust the notebook. <br />On GitHub, the HTML representation is unable to render, please try loading this page with nbviewer.org.</b></div><div class=\"sk-container\" hidden><div class=\"sk-item sk-dashed-wrapped\"><div class=\"sk-label-container\"><div class=\"sk-label sk-toggleable\"><input class=\"sk-toggleable__control sk-hidden--visually\" id=\"sk-estimator-id-19\" type=\"checkbox\" ><label for=\"sk-estimator-id-19\" class=\"sk-toggleable__label sk-toggleable__label-arrow\">GridSearchCV</label><div class=\"sk-toggleable__content\"><pre>GridSearchCV(cv=5, estimator=RandomForestClassifier(), n_jobs=-1,\n",
       "             param_grid={&#x27;max_depth&#x27;: [None, 10, 20],\n",
       "                         &#x27;min_samples_split&#x27;: [2, 5, 10],\n",
       "                         &#x27;n_estimators&#x27;: [100, 200]})</pre></div></div></div><div class=\"sk-parallel\"><div class=\"sk-parallel-item\"><div class=\"sk-item\"><div class=\"sk-label-container\"><div class=\"sk-label sk-toggleable\"><input class=\"sk-toggleable__control sk-hidden--visually\" id=\"sk-estimator-id-20\" type=\"checkbox\" ><label for=\"sk-estimator-id-20\" class=\"sk-toggleable__label sk-toggleable__label-arrow\">estimator: RandomForestClassifier</label><div class=\"sk-toggleable__content\"><pre>RandomForestClassifier()</pre></div></div></div><div class=\"sk-serial\"><div class=\"sk-item\"><div class=\"sk-estimator sk-toggleable\"><input class=\"sk-toggleable__control sk-hidden--visually\" id=\"sk-estimator-id-21\" type=\"checkbox\" ><label for=\"sk-estimator-id-21\" class=\"sk-toggleable__label sk-toggleable__label-arrow\">RandomForestClassifier</label><div class=\"sk-toggleable__content\"><pre>RandomForestClassifier()</pre></div></div></div></div></div></div></div></div></div></div>"
      ],
      "text/plain": [
       "GridSearchCV(cv=5, estimator=RandomForestClassifier(), n_jobs=-1,\n",
       "             param_grid={'max_depth': [None, 10, 20],\n",
       "                         'min_samples_split': [2, 5, 10],\n",
       "                         'n_estimators': [100, 200]})"
      ]
     },
     "execution_count": 99,
     "metadata": {},
     "output_type": "execute_result"
    }
   ],
   "source": [
    "# fit the model\n",
    "grid_search_cv_random_forest.fit(x_train, y_train)"
   ]
  },
  {
   "cell_type": "code",
   "execution_count": 100,
   "id": "5d9cd82e",
   "metadata": {},
   "outputs": [
    {
     "name": "stdout",
     "output_type": "stream",
     "text": [
      "Best Params for Random Forest:  {'max_depth': 20, 'min_samples_split': 2, 'n_estimators': 100}\n"
     ]
    }
   ],
   "source": [
    "print('Best Params for Random Forest: ', grid_search_cv_random_forest.best_params_)"
   ]
  },
  {
   "cell_type": "code",
   "execution_count": 101,
   "id": "b06fb3ae",
   "metadata": {},
   "outputs": [
    {
     "data": {
      "image/png": "[encoded data removed]",
      "text/plain": [
       "<Figure size 1000x600 with 1 Axes>"
      ]
     },
     "metadata": {},
     "output_type": "display_data"
    }
   ],
   "source": [
    "random_forest_results = grid_search_cv_random_forest.cv_results_\n",
    "\n",
    "# Extract entries grouped by `max_depth`\n",
    "rf_results = [\n",
    "    (params['n_estimators'], params['max_depth'], params['min_samples_split'], score)\n",
    "    for params, score in zip(random_forest_results['params'], random_forest_results['mean_test_score'])\n",
    "]\n",
    "\n",
    "# Group scores by max_depth\n",
    "grouped_scores = defaultdict(list)\n",
    "\n",
    "for n_estimators, max_depth, min_samples_split, score in rf_results:\n",
    "    depth = str(max_depth) if max_depth is not None else \"None\"\n",
    "    key = f\"depth={depth}, split={min_samples_split}\"\n",
    "    grouped_scores[key].append((n_estimators, score))\n",
    "\n",
    "# Plot\n",
    "plt.figure(figsize=(10, 6))\n",
    "for label, scores in grouped_scores.items():\n",
    "    scores.sort()\n",
    "    estimators, mean_scores = zip(*scores)\n",
    "    plt.plot(estimators, mean_scores, marker='o', label=label)\n",
    "\n",
    "plt.xlabel('Number of Estimators (n_estimators)')\n",
    "plt.ylabel('Mean CV F1 Macro')\n",
    "plt.title('Random Forest Hyperparameter Tuning by max_depth and min_samples_split')\n",
    "plt.legend(title='Settings', bbox_to_anchor=(1.05, 1), loc='upper left')\n",
    "plt.grid(True)\n",
    "plt.tight_layout()"
   ]
  },
  {
   "cell_type": "code",
   "execution_count": 102,
   "id": "66b732de",
   "metadata": {},
   "outputs": [],
   "source": [
    "# training vs testing data\n",
    "random_forest_y_pred_training_data = grid_search_cv_random_forest.predict(x_train)\n",
    "random_forest_y_pred_testing_data = grid_search_cv_random_forest.predict(x_test)"
   ]
  },
  {
   "cell_type": "code",
   "execution_count": 103,
   "id": "e76ea293",
   "metadata": {},
   "outputs": [
    {
     "name": "stdout",
     "output_type": "stream",
     "text": [
      "Classification Report for Random Forest: Training Set: \n",
      "               precision    recall  f1-score   support\n",
      "\n",
      "         Low       1.00      1.00      1.00       736\n",
      "    Moderate       1.00      1.00      1.00       197\n",
      "        High       1.00      1.00      1.00      1135\n",
      "\n",
      "    accuracy                           1.00      2068\n",
      "   macro avg       1.00      1.00      1.00      2068\n",
      "weighted avg       1.00      1.00      1.00      2068\n",
      "\n",
      "Classification Report for Random Forest: Testing Set: \n",
      "               precision    recall  f1-score   support\n",
      "\n",
      "         Low       1.00      1.00      1.00       491\n",
      "    Moderate       1.00      0.98      0.99       132\n",
      "        High       1.00      1.00      1.00       757\n",
      "\n",
      "    accuracy                           1.00      1380\n",
      "   macro avg       1.00      0.99      1.00      1380\n",
      "weighted avg       1.00      1.00      1.00      1380\n",
      "\n"
     ]
    }
   ],
   "source": [
    "# Classification Report for training and testing \n",
    "print('Classification Report for Random Forest: Training Set: \\n', classification_report(y_train, random_forest_y_pred_training_data, target_names=['Low', 'Moderate', 'High']))\n",
    "print('Classification Report for Random Forest: Testing Set: \\n', classification_report(y_test, random_forest_y_pred_testing_data, target_names=['Low', 'Moderate', 'High']))"
   ]
  },
  {
   "cell_type": "code",
   "execution_count": 105,
   "id": "9ec52987",
   "metadata": {},
   "outputs": [
    {
     "data": {
      "text/plain": [
       "Index(['Latitude', 'Longitude', 'RateOfChange', 'AverageCityTemperature',\n",
       "       'StandardDeviation', 'MinTemperature', 'MaxTemperature',\n",
       "       'TemperatureRange', 'YearsUntil1.5TemperatureChange'],\n",
       "      dtype='object')"
      ]
     },
     "execution_count": 105,
     "metadata": {},
     "output_type": "execute_result"
    }
   ],
   "source": [
    "features.columns"
   ]
  },
  {
   "cell_type": "code",
   "execution_count": 106,
   "id": "992d1a06",
   "metadata": {},
   "outputs": [
    {
     "data": {
      "image/png": "[encoded data removed]",
      "text/plain": [
       "<Figure size 640x480 with 1 Axes>"
      ]
     },
     "metadata": {},
     "output_type": "display_data"
    }
   ],
   "source": [
    "# Feature importance\n",
    "importances = grid_search_cv_random_forest.best_estimator_.feature_importances_\n",
    "feature_names = features.columns\n",
    "plt.barh(feature_names, importances)\n",
    "plt.xlabel(\"Feature Importance\")\n",
    "plt.title(\"Random Forest Feature Importances\")\n",
    "plt.gca().invert_yaxis()\n",
    "plt.tight_layout()"
   ]
  }
 ],
 "metadata": {
  "kernelspec": {
   "display_name": "Python 3 (ipykernel)",
   "language": "python",
   "name": "python3"
  },
  "language_info": {
   "codemirror_mode": {
    "name": "ipython",
    "version": 3
   },
   "file_extension": ".py",
   "mimetype": "text/x-python",
   "name": "python",
   "nbconvert_exporter": "python",
   "pygments_lexer": "ipython3",
   "version": "3.11.4"
  }
 },
 "nbformat": 4,
 "nbformat_minor": 5
}
